{
 "cells": [
  {
   "cell_type": "markdown",
   "id": "b1631073-9dac-4e5b-bfb8-9f8f44e5797a",
   "metadata": {},
   "source": [
    "# 9th_February_10th_Assignment"
   ]
  },
  {
   "cell_type": "code",
   "execution_count": null,
   "id": "e30cd904-7402-4220-98d9-20067cfc20d1",
   "metadata": {},
   "outputs": [],
   "source": []
  },
  {
   "cell_type": "markdown",
   "id": "5094ed08-cd2b-44f2-a67a-ef0ec243e165",
   "metadata": {},
   "source": [
    "## Q1. Create a vehicle class with an init method having instance variables as name_of_vehicle, max_speed and average_of_vehicle."
   ]
  },
  {
   "cell_type": "code",
   "execution_count": 3,
   "id": "dd119504-cf75-4841-969c-31466ae23637",
   "metadata": {},
   "outputs": [
    {
     "name": "stdout",
     "output_type": "stream",
     "text": [
      "Truck\n",
      "120\n",
      "15\n"
     ]
    }
   ],
   "source": [
    "class Vehicle:\n",
    "    def __init__(self, name_of_vehicle, max_speed, average_of_vehicle):\n",
    "        self.name_of_vehicle = name_of_vehicle\n",
    "        self.max_speed = max_speed\n",
    "        self.average_of_vehicle = average_of_vehicle\n",
    "\n",
    "# Example usage\n",
    "vehicle = Vehicle(\"Truck\", 120, 15)\n",
    "print(vehicle.name_of_vehicle)  # Output: Truck\n",
    "print(vehicle.max_speed)        # Output: 120\n",
    "print(vehicle.average_of_vehicle)  # Output: 15\n"
   ]
  },
  {
   "cell_type": "code",
   "execution_count": null,
   "id": "00803af3-153c-4690-bd77-58dd20b15af7",
   "metadata": {},
   "outputs": [],
   "source": []
  },
  {
   "cell_type": "markdown",
   "id": "5e04adac-67af-48f9-9b7a-f0ff5258e832",
   "metadata": {},
   "source": [
    "## Q2. Create a child class car from the vehicle class created in Que 1, which will inherit the vehicle class. Create a method named seating_capacity which takes capacity as an argument and returns the name of the vehicle and its seating capacity."
   ]
  },
  {
   "cell_type": "code",
   "execution_count": 10,
   "id": "f12d22a8-1940-404a-8eaf-5e818de5ce2b",
   "metadata": {},
   "outputs": [
    {
     "name": "stdout",
     "output_type": "stream",
     "text": [
      "Truck\n",
      "120\n",
      "15\n",
      "Sedan has a seating capacity of 5.\n"
     ]
    }
   ],
   "source": [
    "class Vehicle:\n",
    "    def __init__(self, name_of_vehicle, max_speed, average_of_vehicle):\n",
    "        self.name_of_vehicle = name_of_vehicle\n",
    "        self.max_speed = max_speed\n",
    "        self.average_of_vehicle = average_of_vehicle\n",
    "\n",
    "# Example usage\n",
    "vehicle = Vehicle(\"Truck\", 120, 15)\n",
    "print(vehicle.name_of_vehicle)  # Output: Truck\n",
    "print(vehicle.max_speed)        # Output: 120\n",
    "print(vehicle.average_of_vehicle)  # Output: 15\n",
    "\n",
    "\n",
    "class Car(Vehicle):\n",
    "    def seating_capacity(self, capacity):\n",
    "        return f\"{self.name_of_vehicle} has a seating capacity of {capacity}.\"\n",
    "\n",
    "# Example usage\n",
    "car = Car(\"Sedan\", 200, 18)\n",
    "print(car.seating_capacity(5))  # Output: Sedan has a seating capacity of 5.\n"
   ]
  },
  {
   "cell_type": "code",
   "execution_count": null,
   "id": "ee5a2f20-d590-4dc5-a38d-69682c0d67dc",
   "metadata": {},
   "outputs": [],
   "source": []
  },
  {
   "cell_type": "markdown",
   "id": "17d08ea6-d954-4a07-bbd7-dc470f3f2467",
   "metadata": {},
   "source": [
    "## Q3. What is multiple inheritance? Write a python code to demonstrate multiple inheritance."
   ]
  },
  {
   "cell_type": "markdown",
   "id": "28837721-b3e8-4711-adbd-0ad92f6e7c5b",
   "metadata": {},
   "source": [
    "### Multiple Inheritance is a feature in Python where a class can inherit from more than one parent class. This allows the child class to inherit attributes and methods from all parent classes."
   ]
  },
  {
   "cell_type": "code",
   "execution_count": 16,
   "id": "62ef5814-a37d-4061-81e5-ced46f4ed603",
   "metadata": {},
   "outputs": [
    {
     "name": "stdout",
     "output_type": "stream",
     "text": [
      "Feature 1 from Parent1\n",
      "Feature 2 from Parent2\n"
     ]
    }
   ],
   "source": [
    "class Parent1:\n",
    "    def feature1(self):\n",
    "        return \"Feature 1 from Parent1\"\n",
    "\n",
    "class Parent2:\n",
    "    def feature2(self):\n",
    "        return \"Feature 2 from Parent2\"\n",
    "\n",
    "class Child(Parent1, Parent2):\n",
    "    pass\n",
    "\n",
    "# Example usage\n",
    "child = Child()\n",
    "print(child.feature1())  # Output: Feature 1 from Parent1\n",
    "print(child.feature2())  # Output: Feature 2 from Parent2\n"
   ]
  },
  {
   "cell_type": "code",
   "execution_count": null,
   "id": "5fa21e1b-14de-4e7a-86b0-9bdc88079a16",
   "metadata": {},
   "outputs": [],
   "source": []
  },
  {
   "cell_type": "markdown",
   "id": "8bd36637-4ef6-4876-bb32-7fd1bf61cc69",
   "metadata": {},
   "source": [
    "## Q4. What are getter and setter in python? Create a class and create a getter and a setter method in this class."
   ]
  },
  {
   "cell_type": "markdown",
   "id": "21b81044-0aff-4956-b585-abce1ffc2a8d",
   "metadata": {},
   "source": [
    "### Getter: A method used to access the value of a private attribute.\n",
    "### Setter: A method used to modify the value of a private attribute."
   ]
  },
  {
   "cell_type": "markdown",
   "id": "655eb518-e614-443a-bd5c-ea87b17871a6",
   "metadata": {},
   "source": [
    "### In Python, getters and setters are methods that allow controlled access to an object's attributes. They are part of the principle of encapsulation, one of the pillars of object-oriented programming.\n",
    "\n",
    "### Getter:\n",
    "### A getter is a method used to retrieve the value of a private or protected attribute. It allows you to access the attribute while hiding its internal implementation.\n",
    "\n",
    "### Setter:\n",
    "### A setter is a method used to set or update the value of a private or protected attribute. It can include validation logic to ensure that the attribute is updated correctly.\n",
    "\n",
    "### Why Use Getters and Setters?\n",
    "### 1.     Encapsulation: They hide the internal representation of the data.\n",
    "### 2.     Validation: Setters can enforce rules (e.g., type checking, value range) before assigning a value.\n",
    "### 3.     Flexibility: If the implementation changes, you don't need to rewrite code everywhere the attribute is used.\n",
    "\n",
    "### Example"
   ]
  },
  {
   "cell_type": "code",
   "execution_count": 22,
   "id": "d8f4e6ce-7050-4c1f-8a11-0e8c91779878",
   "metadata": {},
   "outputs": [
    {
     "name": "stdout",
     "output_type": "stream",
     "text": [
      "John\n",
      "Alice\n"
     ]
    }
   ],
   "source": [
    "class Student:\n",
    "    def __init__(self, name, age):\n",
    "        self._name = name       # Protected attribute\n",
    "        self._age = age         # Protected attribute\n",
    "\n",
    "    # Getter for 'name'\n",
    "    def get_name(self):\n",
    "        return self._name\n",
    "\n",
    "    # Setter for 'name'\n",
    "    def set_name(self, name):\n",
    "        if isinstance(name, str) and name.strip():  # Validation\n",
    "            self._name = name\n",
    "        else:\n",
    "            raise ValueError(\"Name must be a non-empty string\")\n",
    "\n",
    "    # Getter for 'age'\n",
    "    def get_age(self):\n",
    "        return self._age\n",
    "\n",
    "    # Setter for 'age'\n",
    "    def set_age(self, age):\n",
    "        if isinstance(age, int) and age > 0:  # Validation\n",
    "            self._age = age\n",
    "        else:\n",
    "            raise ValueError(\"Age must be a positive integer\")\n",
    "\n",
    "# Usage\n",
    "student = Student(\"John\", 20)\n",
    "\n",
    "# Access attributes using getters and setters\n",
    "print(student.get_name())  # Output: John\n",
    "student.set_name(\"Alice\")\n",
    "print(student.get_name())  # Output: Alice\n"
   ]
  },
  {
   "cell_type": "markdown",
   "id": "371c0114-e683-44b9-9611-2618959aeec6",
   "metadata": {},
   "source": [
    "### Using @property Decorators\n",
    "\n",
    "### Python provides a more elegant way to define getters and setters using the @property decorator."
   ]
  },
  {
   "cell_type": "code",
   "execution_count": 25,
   "id": "e873ee3b-32d8-44c2-9a5f-90f094772cf8",
   "metadata": {},
   "outputs": [
    {
     "name": "stdout",
     "output_type": "stream",
     "text": [
      "John\n",
      "Alice\n"
     ]
    }
   ],
   "source": [
    "class Student:\n",
    "    def __init__(self, name, age):\n",
    "        self._name = name\n",
    "        self._age = age\n",
    "\n",
    "    # Getter for 'name'\n",
    "    @property\n",
    "    def name(self):\n",
    "        return self._name\n",
    "\n",
    "    # Setter for 'name'\n",
    "    @name.setter\n",
    "    def name(self, value):\n",
    "        if isinstance(value, str) and value.strip():\n",
    "            self._name = value\n",
    "        else:\n",
    "            raise ValueError(\"Name must be a non-empty string\")\n",
    "\n",
    "    # Getter for 'age'\n",
    "    @property\n",
    "    def age(self):\n",
    "        return self._age\n",
    "\n",
    "    # Setter for 'age'\n",
    "    @age.setter\n",
    "    def age(self, value):\n",
    "        if isinstance(value, int) and value > 0:\n",
    "            self._age = value\n",
    "        else:\n",
    "            raise ValueError(\"Age must be a positive integer\")\n",
    "\n",
    "# Usage\n",
    "student = Student(\"John\", 20)\n",
    "\n",
    "# Access attributes like regular attributes\n",
    "print(student.name)  # Output: John\n",
    "student.name = \"Alice\"\n",
    "print(student.name)  # Output: Alice\n"
   ]
  },
  {
   "cell_type": "code",
   "execution_count": null,
   "id": "5dba7060-9de5-4f92-9a78-16cef448a4e5",
   "metadata": {},
   "outputs": [],
   "source": []
  },
  {
   "cell_type": "markdown",
   "id": "ad479003-28d4-4497-8118-cf072d6eab63",
   "metadata": {},
   "source": [
    "## Q5. What is method overriding in python? Write a python code to demonstrate method overriding."
   ]
  },
  {
   "cell_type": "markdown",
   "id": "00379c17-561c-4546-b04c-f72811af1d5b",
   "metadata": {},
   "source": [
    "### What is Method Overriding?\n",
    "\n",
    "### Method overriding in Python occurs when a subclass provides a specific implementation for a method that is already defined in its superclass. The overridden method in the subclass has the same name, return type, and parameters as the method in the parent class.\n",
    "\n",
    "### When the method is called on an object of the subclass, the implementation in the subclass is executed instead of the one in the parent class.\n",
    "\n",
    "\n",
    "### Key Features of Method Overriding\n",
    "\n",
    "### 1.     Allows customization of parent class behavior in a subclass.\n",
    "### 2.     Achieved by defining a method in the subclass with the same name and signature as in the superclass.\n",
    "### 3.     Can call the overridden method in the parent class using super().\n",
    "\n",
    "### Example: Demonstrating Method Overriding"
   ]
  },
  {
   "cell_type": "code",
   "execution_count": 31,
   "id": "e1f26105-188f-46ec-8fcd-704a7f19cde3",
   "metadata": {},
   "outputs": [
    {
     "name": "stdout",
     "output_type": "stream",
     "text": [
      "Animals make sounds\n",
      "Dogs bark\n",
      "Cats meow\n"
     ]
    }
   ],
   "source": [
    "# Parent Class\n",
    "class Animal:\n",
    "    def sound(self):\n",
    "        return \"Animals make sounds\"\n",
    "\n",
    "# Subclass\n",
    "class Dog(Animal):\n",
    "    def sound(self):\n",
    "        return \"Dogs bark\"\n",
    "\n",
    "class Cat(Animal):\n",
    "    def sound(self):\n",
    "        return \"Cats meow\"\n",
    "\n",
    "# Creating objects of each class\n",
    "animal = Animal()\n",
    "dog = Dog()\n",
    "cat = Cat()\n",
    "\n",
    "# Calling the sound method\n",
    "print(animal.sound())  # Output: Animals make sounds\n",
    "print(dog.sound())     # Output: Dogs bark\n",
    "print(cat.sound())     # Output: Cats meow\n"
   ]
  },
  {
   "cell_type": "markdown",
   "id": "0958d644-3aa1-4efe-8ff7-4bcd2d60dbd9",
   "metadata": {},
   "source": [
    "### Using super() in Method Overriding\n",
    "\n",
    "### If you want to include the behavior of the parent class method in the overridden method, you can use the super() function."
   ]
  },
  {
   "cell_type": "code",
   "execution_count": 34,
   "id": "9a3f6814-d4f3-45f8-967b-eed36b3f4d57",
   "metadata": {},
   "outputs": [
    {
     "name": "stdout",
     "output_type": "stream",
     "text": [
      "This is a vehicle. Specifically, this is a car.\n"
     ]
    }
   ],
   "source": [
    "# Parent Class\n",
    "class Vehicle:\n",
    "    def description(self):\n",
    "        return \"This is a vehicle.\"\n",
    "\n",
    "# Subclass\n",
    "class Car(Vehicle):\n",
    "    def description(self):\n",
    "        # Including parent class method's behavior\n",
    "        parent_description = super().description()\n",
    "        return f\"{parent_description} Specifically, this is a car.\"\n",
    "\n",
    "# Example usage\n",
    "car = Car()\n",
    "print(car.description())\n",
    "# Output: This is a vehicle. Specifically, this is a car.\n"
   ]
  },
  {
   "cell_type": "code",
   "execution_count": null,
   "id": "c626d663-f7f8-4c94-8729-88cbf7c61cc6",
   "metadata": {},
   "outputs": [],
   "source": []
  }
 ],
 "metadata": {
  "kernelspec": {
   "display_name": "Python 3 (ipykernel)",
   "language": "python",
   "name": "python3"
  },
  "language_info": {
   "codemirror_mode": {
    "name": "ipython",
    "version": 3
   },
   "file_extension": ".py",
   "mimetype": "text/x-python",
   "name": "python",
   "nbconvert_exporter": "python",
   "pygments_lexer": "ipython3",
   "version": "3.11.7"
  }
 },
 "nbformat": 4,
 "nbformat_minor": 5
}
